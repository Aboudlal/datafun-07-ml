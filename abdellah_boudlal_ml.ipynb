{
 "cells": [
  {
   "cell_type": "markdown",
   "id": "40249048",
   "metadata": {},
   "source": [
    "# P7: Predictive ML Project — Simple Linear Regression  \n",
    "**Author:** Abdellah Boudlal\n",
    "**Date:** 2025-10-04  \n",
    "\n",
    "**Project Repository:** *(https://github.com/Aboudlal/datafun-07-ml)*\n",
    "\n",
    "---\n",
    "\n",
    "This notebook implements the required parts:\n",
    "\n",
    "- **Part 1** — Chart a straight line (Celsius vs Fahrenheit)  \n",
    "- **Part 2** — Predict NYC January average high temperature using SciPy `linregress`  \n",
    "- **Part 3** — Predict NYC January average high temperature using scikit-learn (train/test split)  \n",
    "- **Part 4** — Insights comparing both approaches  \n",
    "\n",
    "> Tip: Run **Kernel → Restart & Run All** before committing to GitHub."
   ]
  },
  {
   "cell_type": "code",
   "execution_count": null,
   "id": "a3dad9d3",
   "metadata": {},
   "outputs": [],
   "source": [
    "# Imports (keep all imports together at the top)\n",
    "from pathlib import Path\n",
    "import numpy as np\n",
    "import pandas as pd\n",
    "\n",
    "# Visualization (project allows seaborn; tool rule here: we demonstrate matplotlib only)\n",
    "import matplotlib.pyplot as plt\n",
    "\n",
    "# Stats & ML\n",
    "from scipy import stats\n",
    "from sklearn.model_selection import train_test_split\n",
    "from sklearn.linear_model import LinearRegression"
   ]
  }
 ],
 "metadata": {
  "kernelspec": {
   "display_name": "Python 3",
   "language": "python",
   "name": "python3"
  },
  "language_info": {
   "name": "python",
   "version": "3.11.9"
  }
 },
 "nbformat": 4,
 "nbformat_minor": 5
}
